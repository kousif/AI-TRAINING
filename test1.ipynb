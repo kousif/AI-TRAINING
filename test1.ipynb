{
 "cells": [
  {
   "cell_type": "code",
   "execution_count": null,
   "id": "7f7bc503",
   "metadata": {},
   "outputs": [],
   "source": [
    "df = pd.read_csv(data.csv)"
   ]
  },
  {
   "cell_type": "code",
   "execution_count": null,
   "id": "19e1bd64",
   "metadata": {},
   "outputs": [],
   "source": [
    "df=pd.read_csv('mobile_cleaned_local')"
   ]
  }
 ],
 "metadata": {
  "kernelspec": {
   "display_name": "Python 3",
   "language": "python",
   "name": "python3"
  },
  "language_info": {
   "codemirror_mode": {
    "name": "ipython",
    "version": 3
   },
   "file_extension": ".py",
   "mimetype": "text/x-python",
   "name": "python",
   "nbconvert_exporter": "python",
   "pygments_lexer": "ipython3",
   "version": "3.13.7"
  }
 },
 "nbformat": 4,
 "nbformat_minor": 5
}
