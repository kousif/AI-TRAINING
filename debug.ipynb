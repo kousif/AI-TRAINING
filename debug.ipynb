{
 "cells": [
  {
   "cell_type": "code",
   "execution_count": null,
   "id": "5f985f70",
   "metadata": {},
   "outputs": [],
   "source": [
    "def factorial(x):\n",
    "    if(x==0):\n",
    "        return 1\n",
    "    return x *factorial(x-1)"
   ]
  },
  {
   "cell_type": "code",
   "execution_count": null,
   "id": "88bd8dfa",
   "metadata": {},
   "outputs": [
    {
     "data": {
      "text/plain": [
       "6"
      ]
     },
     "execution_count": 6,
     "metadata": {},
     "output_type": "execute_result"
    }
   ],
   "source": [
    "factorial(3)"
   ]
  },
  {
   "cell_type": "code",
   "execution_count": null,
   "id": "8636a84c",
   "metadata": {},
   "outputs": [],
   "source": [
    "import random"
   ]
  },
  {
   "cell_type": "code",
   "execution_count": null,
   "id": "18ef1ddb",
   "metadata": {},
   "outputs": [],
   "source": [
    "def code_to_debug():\n",
    "    import pdb;pdb.set_trace()\n",
    "    for i in range(10):\n",
    "        x=random.random()\n",
    "        factorial(x)"
   ]
  },
  {
   "cell_type": "code",
   "execution_count": null,
   "id": "12001f9e",
   "metadata": {},
   "outputs": [],
   "source": [
    "def code_to_debug():\n",
    "    for i in range(10):\n",
    "        x=random.random()\n",
    "    factorial(x)"
   ]
  },
  {
   "cell_type": "code",
   "execution_count": null,
   "id": "2128b9fa",
   "metadata": {},
   "outputs": [],
   "source": [
    "def factorial_debugged(x):\n",
    "    if (not isinstance(x,int)):\n",
    "        print('this method only supports integers')\n",
    "    if (x==0):\n",
    "        return 1\n",
    "    return x = factorial(x-1)\n",
    "    "
   ]
  },
  {
   "cell_type": "code",
   "execution_count": null,
   "id": "b08d836e",
   "metadata": {},
   "outputs": [],
   "source": []
  },
  {
   "cell_type": "code",
   "execution_count": null,
   "id": "9d7cc957",
   "metadata": {},
   "outputs": [],
   "source": []
  },
  {
   "cell_type": "code",
   "execution_count": null,
   "id": "4f1295c6",
   "metadata": {},
   "outputs": [],
   "source": []
  },
  {
   "cell_type": "code",
   "execution_count": null,
   "id": "63934de5",
   "metadata": {},
   "outputs": [],
   "source": []
  },
  {
   "cell_type": "code",
   "execution_count": null,
   "id": "cb39f4be",
   "metadata": {},
   "outputs": [],
   "source": []
  },
  {
   "cell_type": "code",
   "execution_count": null,
   "id": "e8e01e2e",
   "metadata": {},
   "outputs": [],
   "source": []
  }
 ],
 "metadata": {
  "kernelspec": {
   "display_name": "Python 3",
   "language": "python",
   "name": "python3"
  },
  "language_info": {
   "codemirror_mode": {
    "name": "ipython",
    "version": 3
   },
   "file_extension": ".py",
   "mimetype": "text/x-python",
   "name": "python",
   "nbconvert_exporter": "python",
   "pygments_lexer": "ipython3",
   "version": "3.13.7"
  }
 },
 "nbformat": 4,
 "nbformat_minor": 5
}
